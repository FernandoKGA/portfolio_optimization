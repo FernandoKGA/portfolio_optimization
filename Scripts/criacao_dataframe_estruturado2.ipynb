{
 "cells": [
  {
   "cell_type": "markdown",
   "metadata": {},
   "source": [
    "## Criação dataframe no formato correto para analise\n",
    "\n",
    "> - Observamos que para os objetivos da nossa análise, só seriam necessários o uso de 3 campos no dataset da BOVESPA: data, codigo da ação e preço de fechamento\n",
    "> - Porém não bastava apenas filtrar o dataset por esse campos\n",
    "> - Para a análise cada coluna do dataframe deve corresponder a uma ação (código da ação) e cada linha deve ser preenchida com o preço de fechamento da ação em uma data especifica\n",
    "\n",
    "#### Observações\n",
    "> - Durante esse processo notei que uma mesma ação tinha valores diferentes para uma mesma data, ou seja, mais de uma exemplo para uma mesma ação em uma mesma data\n",
    "> - Essa duplicação faz com que o código não rode e o dataframe não fique no formato esperado\n",
    "> - Para resolver isso, percebi que existem diferentes mercados (TPMERC) e que esse valores em um mesmo dia, para uma mesma ação variavam de acordo com o mercado\n",
    "> - Então, escolhi aleatoriamente um mercado para que fosse possível prosseguir\n",
    "> - #### Precisamos verificar essa escolha\n",
    "> - #### Esse script só cria o dataframe de 2018, precisamos evoluir para todos os anos e se possível colocar tudo em um dataframe só"
   ]
  },
  {
   "cell_type": "code",
   "execution_count": 3,
   "metadata": {},
   "outputs": [],
   "source": [
    "import numpy as np\n",
    "import pandas as pd\n",
    "pd.set_option('display.max_columns', 30)"
   ]
  },
  {
   "cell_type": "code",
   "execution_count": 13,
   "metadata": {},
   "outputs": [],
   "source": [
    "df = pd.read_csv(\"/home/nataly/Documents/USP/6 SEMESTRE/RP2/portfolio_optimization/Datasets/Dataset_Bovespa/Unzipped/COTAHIST_A2018.csv\")"
   ]
  },
  {
   "cell_type": "code",
   "execution_count": 14,
   "metadata": {},
   "outputs": [
    {
     "data": {
      "text/plain": [
       "(245, 843)"
      ]
     },
     "execution_count": 14,
     "metadata": {},
     "output_type": "execute_result"
    }
   ],
   "source": [
    "df.columns = df.columns.str.replace(' ', '')\n",
    "df['CODNEG'] = df['CODNEG'].str.replace(' ', '')\n",
    "df = df[df['TPMERC'] == 10] #escolhe um mercado para nao repetir dias, essa escolha tbm diminui o numero de ativos\n",
    "df['DATA'] = pd.to_datetime(df['DATPRG'].astype(str), format='%Y%m%d') #novo campo com data formatada\n",
    "df = df[['DATA', 'CODNEG', 'PREULT']] #filtra apenas as colunas necessarias\n",
    "df = df.set_index('DATA')\n",
    "#faz a formatacao\n",
    "table = df.pivot(columns='CODNEG')\n",
    "table.columns = [col[1] for col in table.columns]\n",
    "table[np.isnan(table)] = 0\n",
    "table.shape"
   ]
  },
  {
   "cell_type": "code",
   "execution_count": 16,
   "metadata": {},
   "outputs": [],
   "source": [
    "table.to_pickle(\"dataframe_estruturado2\") #SO USAR SE FOR SALVAR O DATAFRAME"
   ]
  }
 ],
 "metadata": {
  "kernelspec": {
   "display_name": "Python 3",
   "language": "python",
   "name": "python3"
  },
  "language_info": {
   "codemirror_mode": {
    "name": "ipython",
    "version": 3
   },
   "file_extension": ".py",
   "mimetype": "text/x-python",
   "name": "python",
   "nbconvert_exporter": "python",
   "pygments_lexer": "ipython3",
   "version": "3.6.5"
  }
 },
 "nbformat": 4,
 "nbformat_minor": 2
}
